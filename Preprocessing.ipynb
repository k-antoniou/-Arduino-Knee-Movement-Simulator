{
  "cells": [
    {
      "cell_type": "markdown",
      "metadata": {
        "id": "view-in-github",
        "colab_type": "text"
      },
      "source": [
        "<a href=\"https://colab.research.google.com/github/k-antoniou/Arduino-Knee-Movement-Simulator/blob/main/Preprocessing.ipynb\" target=\"_parent\"><img src=\"https://colab.research.google.com/assets/colab-badge.svg\" alt=\"Open In Colab\"/></a>"
      ]
    },
    {
      "cell_type": "markdown",
      "metadata": {
        "id": "e6n70sb2bzMe"
      },
      "source": [
        "### Load and unzip data\n"
      ]
    },
    {
      "cell_type": "code",
      "execution_count": null,
      "metadata": {
        "colab": {
          "base_uri": "https://localhost:8080/"
        },
        "id": "8ZJ6_eQFngY_",
        "outputId": "4b2e6670-322e-422a-8c50-177a9abdb09a"
      },
      "outputs": [
        {
          "output_type": "stream",
          "name": "stdout",
          "text": [
            "Mounted at /content/drive\n"
          ]
        }
      ],
      "source": [
        "from google.colab import drive\n",
        "drive.mount('/content/drive')"
      ]
    },
    {
      "cell_type": "code",
      "execution_count": null,
      "metadata": {
        "collapsed": true,
        "id": "YL8_Eo3y74GD"
      },
      "outputs": [],
      "source": [
        "!unzip drive/MyDrive/Biosignal_Data/Real.zip"
      ]
    },
    {
      "cell_type": "markdown",
      "metadata": {
        "id": "owCWPKG7cBLv"
      },
      "source": [
        "### Imports"
      ]
    },
    {
      "cell_type": "code",
      "execution_count": null,
      "metadata": {
        "collapsed": true,
        "id": "-7a-HaBwe8OP"
      },
      "outputs": [],
      "source": [
        "!pip install mne"
      ]
    },
    {
      "cell_type": "code",
      "execution_count": null,
      "metadata": {
        "id": "EPHshFKlcAU2"
      },
      "outputs": [],
      "source": [
        "import os\n",
        "#import mne\n",
        "import pandas as pd\n",
        "import numpy as np\n",
        "import matplotlib.pyplot as plt\n",
        "from scipy.signal import detrend,lfilter,firwin"
      ]
    },
    {
      "cell_type": "code",
      "execution_count": null,
      "metadata": {
        "id": "z-wKdQWs-aV3"
      },
      "outputs": [],
      "source": [
        "base_dir = \"drive/MyDrive/Real\"\n",
        "print(os.listdir(base_dir))\n",
        "for folder in os.listdir(base_dir):\n",
        "    folder_path = os.path.join(base_dir, folder)\n",
        "    if os.path.isdir(folder_path):\n",
        "        print(f\"Processing folder: {folder}\")\n",
        "        for file in sorted(os.listdir(folder_path)):\n",
        "            print(file)\n",
        "            if file.startswith('pilot') and file.endswith('.csv'):\n",
        "              df = pd.read_csv(os.path.join(folder_path, file), names=None, header=None)\n",
        "              channel_names = ['Fp1', 'AF7', 'AF3', 'F1', 'F3', 'F5', 'F7', 'FT7', 'FC5', 'FC3', 'FC1', 'C1', 'C3', 'C5', 'T7', 'TP7', 'CP5', 'CP3', 'CP1', 'P1', 'P3', 'P5', 'P7', 'P9', 'PO7', 'PO3', 'O1', 'Oz', 'POz', 'Pz', 'CPz', 'Fpz', 'Fp2', 'AF8', 'AF4', 'AFz', 'Fz', 'F2', 'F4', 'F6', 'F8', 'FT8', 'FC6', 'FC4', 'FC2', 'FCz', 'Cz', 'C2', 'C4', 'C6', 'T8', 'TP8', 'CP6', 'CP4', 'CP2', 'P2', 'P4', 'P6', 'P8', 'P10', 'PO8', 'PO4', 'O2']\n",
        "              df.index = channel_names\n",
        "              #FIR filter\n",
        "              raw=df.values\n",
        "              fir_coefficients = firwin(11, [0.1, 2], pass_zero=False, fs=256)\n",
        "              #fir_coefficients = firwin(21, [1, 35], pass_zero=False, fs=256)\n",
        "              filtered_data = lfilter(fir_coefficients, 1, raw, axis=1)\n",
        "\n",
        "              #raw=mne.filter.filter_data(data=df.values, sfreq=256, l_freq=1.0, h_freq=35.0, fir_design='firwin', filter_length='10s')\n",
        "              #filt=mne.filter.create_filter(data=raw, sfreq=256, l_freq=1.0, h_freq=35.0, fir_design='firwin', filter_length='auto')\n",
        "\n",
        "              #Mean removal and detrending\n",
        "              filtered_data -= filtered_data.mean(axis=1, keepdims=True)  # Mean removal\n",
        "              filtered_data = detrend(filtered_data, axis=1)  # Detrending\n",
        "              plt.figure()\n",
        "              plt.plot(df.loc['C2',:])\n",
        "              plt.show()\n",
        "\n",
        "              #print(df)\n",
        "\n",
        "              #Save data\n",
        "              processed_df = pd.DataFrame(filtered_data, index=channel_names)\n",
        "              processed_df.to_csv((folder + \"/\"+file).replace('noisy','filtered'), index=False)\n",
        "              #print(processed_df)\n",
        "              plt.figure()\n",
        "              plt.plot(processed_df.loc['C2',:])\n",
        "              plt.show()\n"
      ]
    },
    {
      "cell_type": "code",
      "execution_count": null,
      "metadata": {
        "id": "1h_WfMtO4RE1"
      },
      "outputs": [],
      "source": [
        "!zip -r drive/MyDrive/none.zip none"
      ]
    },
    {
      "cell_type": "markdown",
      "source": [
        "mean, std, correlation, legth of signals\n"
      ],
      "metadata": {
        "id": "cp0Zq7XpfYa2"
      }
    }
  ],
  "metadata": {
    "colab": {
      "provenance": [],
      "authorship_tag": "ABX9TyM4Lyv/iXNFhrrKTie3yz0X",
      "include_colab_link": true
    },
    "kernelspec": {
      "display_name": "Python 3",
      "name": "python3"
    },
    "language_info": {
      "name": "python"
    }
  },
  "nbformat": 4,
  "nbformat_minor": 0
}